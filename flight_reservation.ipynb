{
  "metadata": {
    "kernelspec": {
      "name": "python",
      "display_name": "Python (Pyodide)",
      "language": "python"
    },
    "language_info": {
      "codemirror_mode": {
        "name": "python",
        "version": 3
      },
      "file_extension": ".py",
      "mimetype": "text/x-python",
      "name": "python",
      "nbconvert_exporter": "python",
      "pygments_lexer": "ipython3",
      "version": "3.8"
    }
  },
  "nbformat_minor": 5,
  "nbformat": 4,
  "cells": [
    {
      "id": "0a5b80f6-aa37-4847-8a0b-f674d0b62d1b",
      "cell_type": "code",
      "source": "# Flight Reservation System in Python\n\nimport heapq\n\nclass FlightGraph:\n    def __init__(self):\n        self.graph = {}  # Graph: {airport: [(neighbor, cost)]}\n\n    def add_flight(self, src, dest, cost):\n        self.graph.setdefault(src, []).append((dest, cost))\n        self.graph.setdefault(dest, [])  # Ensure destination exists in graph\n\n    def get_neighbors(self, airport):\n        return self.graph.get(airport, [])\n\n    def dijkstra(self, start, end):\n        pq = [(0, start, [])]  # (cost, current, path)\n        visited = set()\n        \n        while pq:\n            (cost, current, path) = heapq.heappop(pq)\n            if current in visited:\n                continue\n            path = path + [current]\n            if current == end:\n                return (cost, path)\n            visited.add(current)\n            for neighbor, edge_cost in self.get_neighbors(current):\n                if neighbor not in visited:\n                    heapq.heappush(pq, (cost + edge_cost, neighbor, path))\n        return (float('inf'), [])\n\n\nclass BookingSystem:\n    def __init__(self):\n        self.bookings = {}  # {flight_id: {\"seats\": int, \"passengers\": []}}\n\n    def add_flight(self, flight_id, seats):\n        self.bookings[flight_id] = {\"seats\": seats, \"passengers\": []}\n\n    def book_ticket(self, flight_id, passenger):\n        flight = self.bookings.get(flight_id)\n        if flight and flight[\"seats\"] > 0:\n            flight[\"passengers\"].append(passenger)\n            flight[\"seats\"] -= 1\n            return f\"Booking confirmed for {passenger} on flight {flight_id}.\"\n        return f\"Booking failed. No available seats on flight {flight_id}.\"\n\n    def cancel_ticket(self, flight_id, passenger):\n        flight = self.bookings.get(flight_id)\n        if flight and passenger in flight[\"passengers\"]:\n            flight[\"passengers\"].remove(passenger)\n            flight[\"seats\"] += 1\n            return f\"Booking cancelled for {passenger} on flight {flight_id}.\"\n        return f\"Cancellation failed. Passenger not found.\"\n\n\n# Demo\nif __name__ == \"__main__\":\n    # Initialize system\n    fg = FlightGraph()\n    bs = BookingSystem()\n\n    # Add flights\n    fg.add_flight(\"BLR\", \"DEL\", 3000)\n    fg.add_flight(\"BLR\", \"HYD\", 1000)\n    fg.add_flight(\"HYD\", \"DEL\", 1500)\n    fg.add_flight(\"DEL\", \"KOL\", 2000)\n\n    # Add bookings\n    bs.add_flight(\"BLR-DEL\", 2)\n    bs.add_flight(\"HYD-DEL\", 1)\n\n    # Route search\n    cost, path = fg.dijkstra(\"BLR\", \"KOL\")\n    print(f\"Shortest route from BLR to KOL: {' -> '.join(path)} with cost ₹{cost}\")\n\n    # Bookings\n    print(bs.book_ticket(\"BLR-DEL\", \"Alice\"))\n    print(bs.book_ticket(\"BLR-DEL\", \"Bob\"))\n    print(bs.book_ticket(\"BLR-DEL\", \"Charlie\"))  # Should fail\n\n    # Cancellation\n    print(bs.cancel_ticket(\"BLR-DEL\", \"Bob\"))\n    print(bs.book_ticket(\"BLR-DEL\", \"Charlie\"))  # Should succeed now",
      "metadata": {
        "trusted": true
      },
      "outputs": [],
      "execution_count": 3
    },
    {
      "id": "4dc665a1-42d5-4ad0-8280-159ce0ef42b3",
      "cell_type": "code",
      "source": "",
      "metadata": {
        "trusted": true
      },
      "outputs": [],
      "execution_count": null
    }
  ]
}