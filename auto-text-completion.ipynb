{
  "metadata": {
    "kernelspec": {
      "name": "python",
      "display_name": "Python (Pyodide)",
      "language": "python"
    },
    "language_info": {
      "codemirror_mode": {
        "name": "python",
        "version": 3
      },
      "file_extension": ".py",
      "mimetype": "text/x-python",
      "name": "python",
      "nbconvert_exporter": "python",
      "pygments_lexer": "ipython3",
      "version": "3.8"
    }
  },
  "nbformat_minor": 5,
  "nbformat": 4,
  "cells": [
    {
      "id": "475115e7-2650-4781-ba51-1ecc3036c5fd",
      "cell_type": "code",
      "source": "class TrieNode:\n    def __init__(self):\n        self.children = {}\n        self.is_end_of_word = False\n        self.words = []\n\nclass Trie:\n    def __init__(self):\n        self.root = TrieNode()\n\n    def insert(self, word):\n        node = self.root\n        for char in word:\n            if char not in node.children:\n                node.children[char] = TrieNode()\n            node = node.children[char]\n            node.words.append(word)  # Store word at each level for quick lookup\n        node.is_end_of_word = True\n\n    def search_prefix(self, prefix):\n        node = self.root\n        for char in prefix:\n            if char not in node.children:\n                return []  # No words found with this prefix\n            node = node.children[char]\n        return node.words  # Return all words stored at this prefix node\n\n# Example Usage\ntrie = Trie()\nwords = [\"hello\", \"hell\", \"helicopter\", \"help\", \"hero\", \"heritage\"]\nfor word in words:\n    trie.insert(word)\n\nprefix = \"he\"\nprint(f\"Suggestions for '{prefix}':\", trie.search_prefix(prefix))\n",
      "metadata": {
        "trusted": true
      },
      "outputs": [
        {
          "name": "stdout",
          "output_type": "stream",
          "text": "Suggestions for 'he': ['hello', 'hell', 'helicopter', 'help', 'hero', 'heritage']\n"
        }
      ],
      "execution_count": 1
    },
    {
      "id": "21a0bf8a-23e1-4f0a-949c-20d590782078",
      "cell_type": "code",
      "source": "",
      "metadata": {
        "trusted": true
      },
      "outputs": [],
      "execution_count": null
    }
  ]
}