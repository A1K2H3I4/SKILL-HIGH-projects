{
  "metadata": {
    "kernelspec": {
      "name": "python",
      "display_name": "Python (Pyodide)",
      "language": "python"
    },
    "language_info": {
      "codemirror_mode": {
        "name": "python",
        "version": 3
      },
      "file_extension": ".py",
      "mimetype": "text/x-python",
      "name": "python",
      "nbconvert_exporter": "python",
      "pygments_lexer": "ipython3",
      "version": "3.8"
    }
  },
  "nbformat_minor": 5,
  "nbformat": 4,
  "cells": [
    {
      "id": "95d65e54-e5aa-44ac-956c-6640d5bae37c",
      "cell_type": "code",
      "source": "class Book:\n    def __init__(self, book_id, title, author):\n        self.book_id = book_id\n        self.title = title\n        self.author = author\n        self.is_issued = False\n        self.next = None  # For linked list\n\nclass Library:\n    def __init__(self):\n        self.head = None  # Linked list for books\n        self.books_hash = {}  # Hash table for quick lookup\n\n    def add_book(self, book_id, title, author):\n        if book_id in self.books_hash:\n            print(\"Book ID already exists!\")\n            return\n        new_book = Book(book_id, title, author)\n        new_book.next = self.head\n        self.head = new_book\n        self.books_hash[book_id] = new_book\n        print(f\"Book '{title}' added successfully!\")\n\n    def issue_book(self, book_id):\n        if book_id in self.books_hash and not self.books_hash[book_id].is_issued:\n            self.books_hash[book_id].is_issued = True\n            print(f\"Book '{self.books_hash[book_id].title}' issued successfully!\")\n        else:\n            print(\"Book not available or already issued!\")\n\n    def return_book(self, book_id):\n        if book_id in self.books_hash and self.books_hash[book_id].is_issued:\n            self.books_hash[book_id].is_issued = False\n            print(f\"Book '{self.books_hash[book_id].title}' returned successfully!\")\n        else:\n            print(\"Invalid return request!\")\n\n    def display_books(self):\n        current = self.head\n        print(\"\\nAvailable Books:\")\n        while current:\n            status = \"Issued\" if current.is_issued else \"Available\"\n            print(f\"ID: {current.book_id}, Title: {current.title}, Author: {current.author}, Status: {status}\")\n            current = current.next\n\n# Example Usage\nlibrary = Library()\nlibrary.add_book(101, \"The Alchemist\", \"Paulo Coelho\")\nlibrary.add_book(102, \"1984\", \"George Orwell\")\nlibrary.add_book(103, \"Python Programming\", \"Guido van Rossum\")\n\nlibrary.display_books()\nlibrary.issue_book(102)\nlibrary.display_books()\nlibrary.return_book(102)\nlibrary.display_books()\n",
      "metadata": {
        "trusted": true
      },
      "outputs": [
        {
          "name": "stdout",
          "output_type": "stream",
          "text": "Book 'The Alchemist' added successfully!\nBook '1984' added successfully!\nBook 'Python Programming' added successfully!\n\nAvailable Books:\nID: 103, Title: Python Programming, Author: Guido van Rossum, Status: Available\nID: 102, Title: 1984, Author: George Orwell, Status: Available\nID: 101, Title: The Alchemist, Author: Paulo Coelho, Status: Available\nBook '1984' issued successfully!\n\nAvailable Books:\nID: 103, Title: Python Programming, Author: Guido van Rossum, Status: Available\nID: 102, Title: 1984, Author: George Orwell, Status: Issued\nID: 101, Title: The Alchemist, Author: Paulo Coelho, Status: Available\nBook '1984' returned successfully!\n\nAvailable Books:\nID: 103, Title: Python Programming, Author: Guido van Rossum, Status: Available\nID: 102, Title: 1984, Author: George Orwell, Status: Available\nID: 101, Title: The Alchemist, Author: Paulo Coelho, Status: Available\n"
        }
      ],
      "execution_count": 1
    },
    {
      "id": "7381f6b7-6c93-4472-ae45-4591ea62f39d",
      "cell_type": "code",
      "source": "",
      "metadata": {
        "trusted": true
      },
      "outputs": [],
      "execution_count": null
    }
  ]
}